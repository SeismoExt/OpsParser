{
 "cells": [
  {
   "cell_type": "markdown",
   "metadata": {
    "nbsphinx": {
     "thumbnail": "../../_static/images/node.png"
    }
   },
   "source": [
    "## Node Coords & Mass"
   ]
  },
  {
   "cell_type": "code",
   "execution_count": 4,
   "metadata": {},
   "outputs": [],
   "source": [
    "# import OpenSeesPy and demo modElement\n",
    "import openseespy.opensees as ops\n",
    "from opsparser import OpenSeesParser\n",
    "from ArchBridge2 import ArchBridge2"
   ]
  },
  {
   "cell_type": "code",
   "execution_count": 5,
   "metadata": {},
   "outputs": [],
   "source": [
    "# first hook all commands before your opensees code\n",
    "parser = OpenSeesParser(ops)\n",
    "parser.hook_all()\n",
    "\n",
    "# some Elementse may have provided some code\n",
    "ArchBridge2()"
   ]
  },
  {
   "cell_type": "markdown",
   "metadata": {},
   "source": [
    "### Challenge: Determining appropriate new tag values for modElement components\n",
    "\n",
    "- when you want to add some code after existing code, you may find it difficult to know which new tag to use\n",
    "- sometimes during parametric studies, change of Elementesize(occupying more tags) becomes problematic due to cascade effect\n",
    "\n",
    "Common approaches:\n",
    "1. Using large numbers (e.g., 10001, 20001) to avoid conflicts\n",
    "2. Configure another way to allocate tags with a little time(but annoying)\n",
    "\n",
    "### Solution: Using automated tag management\n",
    "\n",
    "We provide two methods for this purpose:\n",
    "- `newtag` property: Returns a single new unused tag\n",
    "- `newtag_upper` property: Returns a single new unused tag that is max of all tags + 1\n",
    "- `get_new_tags(num:int, start:int = 1)`: Returns a list of 'num' new unused tags"
   ]
  },
  {
   "cell_type": "code",
   "execution_count": 6,
   "metadata": {},
   "outputs": [
    {
     "name": "stdout",
     "output_type": "stream",
     "text": [
      "242\n",
      "242\n",
      "242\n",
      "253\n"
     ]
    }
   ],
   "source": [
    "from opsparser import OpenSeesCommand as Command\n",
    "# Example of adding a new node:\n",
    "Node = Command.NODE.instance\n",
    "print(Node.newtag)        # in this case 242\n",
    "print(Node.newtag_upper)  # in this case also 242\n",
    "\n",
    "# but what will happen after adding a new node?\n",
    "ops.node(Node.newtag+10, *[-1,-1,-1])\n",
    "\n",
    "print(Node.newtag)        # This value remains unchanged until you actually use ops.node(Node.newtag, *coords)\n",
    "print(Node.newtag_upper)  # in this case not 242"
   ]
  },
  {
   "cell_type": "code",
   "execution_count": 7,
   "metadata": {},
   "outputs": [
    {
     "name": "stdout",
     "output_type": "stream",
     "text": [
      "5 newtag list:\n",
      "242 243 244 245 246 \n",
      "15 newtag list:\n",
      "253 254 255 256 257 258 259 260 261 262 263 264 265 266 267 \n",
      "10 newtag list:\n",
      "5000 5001 5002 5003 5004 5005 5006 5007 5008 5009 "
     ]
    }
   ],
   "source": [
    "# and you can also get a list to build your modElement if you want, like:\n",
    "print(\"5 newtag list:\")\n",
    "for tag in Node.get_new_tags(5):\n",
    "    # ops.node(tag,*coords)\n",
    "    print(tag, end=\" \")\n",
    "    \n",
    "print(\"\\n15 newtag list:\")\n",
    "# if it exceeds 11(252 is already used), it will start from 253\n",
    "for tag in Node.get_new_tags(15):\n",
    "    # ops.node(tag,*coords)\n",
    "    print(tag, end=\" \")\n",
    "    \n",
    "# you can also put a large number before it(but your code should be more robust)\n",
    "print(\"\\n10 newtag list:\")\n",
    "for tag in Node.get_new_tags(10,start = 5000):\n",
    "    # ops.node(tag,*coords)\n",
    "    print(tag, end=\" \")"
   ]
  },
  {
   "cell_type": "code",
   "execution_count": 8,
   "metadata": {},
   "outputs": [
    {
     "name": "stdout",
     "output_type": "stream",
     "text": [
      "440\n",
      "440\n",
      "[440, 441, 442, 443, 444]\n",
      "5\n",
      "602\n",
      "[5, 6, 7, 8, 9]\n"
     ]
    }
   ],
   "source": [
    "# similarliy, we have these property & method for Elementements and materials and so on\n",
    "Element = Command.ELEMENT.instance\n",
    "print(Element.newtag)\n",
    "print(Element.newtag_upper)\n",
    "print(Element.get_new_tags(5))\n",
    "\n",
    "Material = Command.MATERIAL.instance\n",
    "print(Material.newtag)\n",
    "print(Material.newtag_upper)\n",
    "print(Material.get_new_tags(5))"
   ]
  }
 ],
 "metadata": {
  "kernelspec": {
   "display_name": ".venv",
   "language": "python",
   "name": "python3"
  },
  "language_info": {
   "codemirror_mode": {
    "name": "ipython",
    "version": 3
   },
   "file_extension": ".py",
   "mimetype": "text/x-python",
   "name": "python",
   "nbconvert_exporter": "python",
   "pygments_lexer": "ipython3",
   "version": "3.12.8"
  },
  "nbsphinx": {
   "thumbnail": "../_static/images/node.png"
  }
 },
 "nbformat": 4,
 "nbformat_minor": 2
}
