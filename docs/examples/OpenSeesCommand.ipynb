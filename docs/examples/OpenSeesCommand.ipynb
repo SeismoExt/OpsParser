{
 "cells": [
  {
   "cell_type": "markdown",
   "id": "a2867472",
   "metadata": {},
   "source": [
    "## How to Use the `OpenSeesCommand` class"
   ]
  },
  {
   "cell_type": "code",
   "execution_count": 1,
   "id": "bf19bb34",
   "metadata": {},
   "outputs": [],
   "source": [
    "# import OpenSeesPy and demo model\n",
    "import openseespy.opensees as ops\n",
    "from opsparser import OpenSeesParser\n",
    "from ArchBridge2 import ArchBridge2"
   ]
  },
  {
   "cell_type": "code",
   "execution_count": 2,
   "id": "b7a2f8ae",
   "metadata": {},
   "outputs": [],
   "source": [
    "# first hook all commands before your opensees code\n",
    "parser = OpenSeesParser(ops)\n",
    "parser.hook_all(debug = False) # Set debug = True to show parsing process\n",
    "\n",
    "# feel free to run your OpenSeesPy Code\n",
    "ArchBridge2()"
   ]
  },
  {
   "cell_type": "code",
   "execution_count": 15,
   "id": "1b8b563c",
   "metadata": {},
   "outputs": [
    {
     "name": "stdout",
     "output_type": "stream",
     "text": [
      "NODE OpenSeesCommand.NODE\n",
      "ELEMENT OpenSeesCommand.ELEMENT\n",
      "MATERIAL OpenSeesCommand.MATERIAL\n"
     ]
    }
   ],
   "source": [
    "# OpenSeesCommand is an Enum class that provides easy access to manager instances\n",
    "# It allows accessing managers through auto-completable keys\n",
    "\n",
    "from opsparser import OpenSeesCommand as Command\n",
    "\n",
    "# Access manager instances through enum values\n",
    "# Each manager is a singleton - only one instance exists in the program\n",
    "for cmd in Command:\n",
    "    print(cmd.name, cmd)\n"
   ]
  },
  {
   "cell_type": "code",
   "execution_count": null,
   "id": "2ff970ad",
   "metadata": {},
   "outputs": [
    {
     "name": "stdout",
     "output_type": "stream",
     "text": [
      "NodeManager handles Commands: (node, mass, model)\n",
      "ElementManager handles Commands: (element)\n",
      "MaterialManager handles Commands: (uniaxialMaterial, nDMaterial)\n"
     ]
    }
   ],
   "source": [
    "# let's check what commands each manager can handle\n",
    "for cmd in Command:\n",
    "    instance = cmd.instance\n",
    "    print(instance)"
   ]
  }
 ],
 "metadata": {
  "kernelspec": {
   "display_name": ".venv",
   "language": "python",
   "name": "python3"
  },
  "language_info": {
   "codemirror_mode": {
    "name": "ipython",
    "version": 3
   },
   "file_extension": ".py",
   "mimetype": "text/x-python",
   "name": "python",
   "nbconvert_exporter": "python",
   "pygments_lexer": "ipython3",
   "version": "3.12.8"
  }
 },
 "nbformat": 4,
 "nbformat_minor": 5
}
